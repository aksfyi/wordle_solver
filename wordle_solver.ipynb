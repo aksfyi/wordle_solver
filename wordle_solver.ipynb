{
  "nbformat": 4,
  "nbformat_minor": 0,
  "metadata": {
    "colab": {
      "name": "wordle_solver.ipynb",
      "provenance": [],
      "collapsed_sections": []
    },
    "kernelspec": {
      "name": "python3",
      "display_name": "Python 3"
    },
    "language_info": {
      "name": "python"
    }
  },
  "cells": [
    {
      "cell_type": "code",
      "execution_count": 22,
      "metadata": {
        "id": "IGUGhj8Ec9Jv"
      },
      "outputs": [],
      "source": [
        "import requests\n",
        "import random\n",
        "\n",
        "# order by most used words\n",
        "words = requests.get(\"https://www-cs-faculty.stanford.edu/~knuth/sgb-words.txt\")"
      ]
    },
    {
      "cell_type": "code",
      "source": [
        "words = words.text.split(\"\\n\")\n",
        "wrds = []\n",
        "for word in words:\n",
        "  if len(word.strip()) == 5:\n",
        "    wrds.append(word)\n",
        "words = wrds"
      ],
      "metadata": {
        "id": "RGf-Mdm6dRKq"
      },
      "execution_count": 23,
      "outputs": []
    },
    {
      "cell_type": "code",
      "source": [
        "def get_words(condition,words,position):\n",
        "  wordList = []\n",
        "  if condition[1] == \"gr\":\n",
        "    for word in words:\n",
        "      if condition[0] not in word:\n",
        "        wordList.append(word)\n",
        "  elif condition[1] == \"y\":\n",
        "    for word in words:\n",
        "      if condition[0] in word and condition[0] != word[position]:\n",
        "        wordList.append(word)\n",
        "  elif condition[1] == \"g\":\n",
        "    for word in words:\n",
        "      if condition[0] == word[position]:\n",
        "        wordList.append(word)\n",
        "  return wordList"
      ],
      "metadata": {
        "id": "IqLO2oWnef3r"
      },
      "execution_count": 24,
      "outputs": []
    },
    {
      "cell_type": "code",
      "source": [
        "def get_possible_words(conditions,words):\n",
        "  for i in range(0,5):\n",
        "    words = get_words(conditions[i],words,i)\n",
        "  return words"
      ],
      "metadata": {
        "id": "m-IN1-YLdVwB"
      },
      "execution_count": 15,
      "outputs": []
    },
    {
      "cell_type": "code",
      "source": [
        "def get_conditions(word, answer):\n",
        "  conds = []\n",
        "  for i in range(0,5):\n",
        "    if word[i] == answer[i]:\n",
        "      conds.append([word[i],\"g\"])\n",
        "    elif word[i] in answer:\n",
        "      conds.append([word[i],\"y\"])\n",
        "    else:\n",
        "      conds.append([word[i],\"gr\"])\n",
        "  return conds\n",
        "  \n"
      ],
      "metadata": {
        "id": "vG8YeT5sk1Iw"
      },
      "execution_count": 25,
      "outputs": []
    },
    {
      "cell_type": "code",
      "source": [
        "def getsteps(answer,wrds):\n",
        "  guess = random.choice(wrds)\n",
        "  step = 1\n",
        "  print(f\"Guessed {guess} . Remaining possible words {len(wrds)}. {step}/6\")\n",
        "  while answer != guess:\n",
        "    step += 1\n",
        "    conds = get_conditions(guess,answer)\n",
        "    wrds = get_possible_words(conds,wrds)\n",
        "    guess = wrds[0]\n",
        "    print(f\"Guessed {guess} . Remaining possible words {len(wrds)}. {step}/6\")\n"
      ],
      "metadata": {
        "id": "MQrxU06grQ-B"
      },
      "execution_count": 26,
      "outputs": []
    },
    {
      "cell_type": "code",
      "source": [
        "def get_steps(answer,guess,wrds):\n",
        "  step = 1\n",
        "  while answer != guess:\n",
        "    step += 1\n",
        "    conds = get_conditions(guess,answer)\n",
        "    wrds = get_possible_words(conds,wrds)\n",
        "    guess = wrds[0]\n",
        "  return step"
      ],
      "metadata": {
        "id": "A583f-6vsxFO"
      },
      "execution_count": 27,
      "outputs": []
    },
    {
      "cell_type": "code",
      "source": [
        "words = get_possible_words([[\"m\",\"y\"],[\"o\",\"y\"],[\"u\",\"y\"],[\"r\",\"y\"],[\"n\",\"gr\"]],words)"
      ],
      "metadata": {
        "id": "FNo37-kFyom7"
      },
      "execution_count": 21,
      "outputs": []
    }
  ]
}